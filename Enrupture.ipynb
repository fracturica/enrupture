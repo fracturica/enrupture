{
 "cells": [
  {
   "cell_type": "code",
   "execution_count": null,
   "metadata": {
    "collapsed": false,
    "deletable": true,
    "editable": true
   },
   "outputs": [],
   "source": [
    "%pylab inline\n",
    "from imp import reload\n",
    "import scipy.stats as stats\n",
    "import shardlib.trees as tr\n",
    "import shardlib.plotFuncs as pf\n",
    "import shardlib.dbaccess as dba\n",
    "import shardlib.dataProcessing as dp\n",
    "import shardlib.sessionFuncs as sf\n",
    "import shardlib.queues as qs\n",
    "from shardlib.comp_analysis import XCPCompAnalysis\n",
    "from shardlib.comp_analysis import XSCompAnalysis\n",
    "from shardlib.comp_analysis import FEMCompAnalysis\n",
    "from shardlib.comp_analysis import SIMCompAnalysis\n",
    "from shardlib.comp_analysis import PSCCompAnalysis"
   ]
  },
  {
   "cell_type": "markdown",
   "metadata": {
    "deletable": true,
    "editable": true
   },
   "source": [
    "[Documentation](docs/enrupture_guide.pdf)"
   ]
  },
  {
   "cell_type": "markdown",
   "metadata": {
    "deletable": true,
    "editable": true
   },
   "source": [
    "# Contents"
   ]
  },
  {
   "cell_type": "markdown",
   "metadata": {
    "deletable": true,
    "editable": true
   },
   "source": [
    "<b>[1. Initialization](#1.-Initialization)</b>\n",
    "\n",
    "<a href=\"#1(a)-New-Session\">1(a) New Session</a>\n",
    "\n",
    " <a href=\"#1(b)-Number-and-Distribution-of-the-Simulations\">1(b) Number and Distribution of the Simulations</a>\n",
    "\n",
    " <a href=\"#1(c)-Container-size-convergence\">1(c) Container size convergence</a>\n",
    "\n",
    " <a href=\"#1(d)-Number-and-Distribution-of-Simulations-with-Optimal-Size-Container\">1(d) Number and Distribution of Simulations with Optimal Size Container</a>\n",
    "\n",
    "<b><a href=\"#2.-Analysis-of-the-Model-Types\">2. Analysis of the Model Types</a></b>\n",
    "\n",
    " <i><a href=\"#2(a)-XFEM-crackPartition\">2(a) XFEM crackPartition</a></i>\n",
    "\n",
    "  <a href=\"#2(a)i.-Number-and-Distribution-of-XFEM-CP-Simulations\">2(a)i. Number and Distribution of XFEM CP Simulations</a>\n",
    "\n",
    "  <a href=\"#2(a)ii.-Initialization\">2(a)ii. Initialization</a>\n",
    "\n",
    "  <a href=\"#2(a)iii.-Analysis-Step\">2(a)iii. Analysis Step</a>\n",
    "\n",
    " <i><a href=\"#2(b)-XFEM-simple\">2(b) XFEM simple</a></i>\n",
    "\n",
    "  <a href=\"#2(b)i.-Number-and-Distribution-of-XFEM-simple-Simulations\">2(b)i. Number and Distribution of XFEM simple Simulations</a>\n",
    "\n",
    "  <a href=\"#2(b)ii.-Initialization\">2(b)ii. Initialization</a>\n",
    "\n",
    "  <a href=\"#2(b)iii.-Analysis-step\">2(b)iii. Analysis Step</a>\n",
    "\n",
    " <i><a href=\"#2(c)-FEM\">2(c) FEM</a></i>\n",
    "\n",
    "  <a href=\"#2(c)i.-Container-Size-Comparison-for-XFEM-and-FEM-Analyses\">2(c)i. Container Size Comparison for XFEM and FEM Analyses</a>\n",
    "\n",
    "  <a href=\"#2(c)ii.-Number-and-Distribution-of-FEM-Simulations\">2(c)ii. Number and Distribution of FEM Simulations</a>\n",
    "\n",
    "  <a href=\"#2(c)iii.-Initialization\">2(c)iii. Initialization</a>\n",
    "\n",
    "  <a href=\"#2(c)iv.-Analysis-Step\">2(c)iv. Analysis Step</a>\n",
    "\n",
    "<b><a href=\"#3.-Comparison-of-the-Model-Types\">3. Comparison of the Model Types</a></b>\n",
    "\n",
    " <a href=\"#3(a)-Initialization\">3(a) Initialization</a>\n",
    "\n",
    " <a href=\"#3(b)-Analysis-Step\">3(b) Analysis Step</a>"
   ]
  },
  {
   "cell_type": "markdown",
   "metadata": {
    "deletable": true,
    "editable": true
   },
   "source": [
    "# 1. Initialization"
   ]
  },
  {
   "cell_type": "markdown",
   "metadata": {
    "deletable": true,
    "editable": true
   },
   "source": [
    "## 1(a) New Session"
   ]
  },
  {
   "cell_type": "code",
   "execution_count": null,
   "metadata": {
    "collapsed": false,
    "deletable": true,
    "editable": true
   },
   "outputs": [],
   "source": [
    "sf.createNewSessionFiles(False)"
   ]
  },
  {
   "cell_type": "markdown",
   "metadata": {
    "deletable": true,
    "editable": true
   },
   "source": [
    "## 1(b) Number and Distribution of the Simulations"
   ]
  },
  {
   "cell_type": "markdown",
   "metadata": {
    "deletable": true,
    "editable": true
   },
   "source": [
    "### 1(b)i. All Simulations"
   ]
  },
  {
   "cell_type": "code",
   "execution_count": null,
   "metadata": {
    "collapsed": false,
    "deletable": true,
    "editable": true,
    "scrolled": false
   },
   "outputs": [],
   "source": [
    "allSimTree = tr.createTreeFromDbKeys(dba.getAllShelveKeys())\n",
    "allKeysTree = tr.createTreeOfKeys(allSimTree)\n",
    "sf.setSimIdAsFailed([allSimTree], sf.getSimIdsFromShelve('failed'))\n",
    "tr.assignBarWidthsAndMarks(allSimTree, allKeysTree)\n",
    "tr.assignLegendNames(allSimTree)\n",
    "allSimTree.printStats2()\n",
    "fig = figure(figsize=(12.9,8),dpi=100)\n",
    "tr.barPlot(allSimTree, allKeysTree, fig)"
   ]
  },
  {
   "cell_type": "markdown",
   "metadata": {
    "deletable": true,
    "editable": true
   },
   "source": [
    "### 1(b)ii. Simulations with Equal Initial Conditions and Material"
   ]
  },
  {
   "cell_type": "code",
   "execution_count": null,
   "metadata": {
    "collapsed": false,
    "deletable": true,
    "editable": true
   },
   "outputs": [],
   "source": [
    "dbKeys = pf.filterSimIds(dba.getAllShelveKeys(), \n",
    "                         {'sigma':100, 'omega':60, 'gamma':45, 'v':0.3, 'E':2e5})\n",
    "simTree = tr.createTreeFromDbKeys(dbKeys)\n",
    "sf.setSimIdAsFailed([allSimTree, simTree], sf.getSimIdsFromShelve('failed'))\n",
    "keysTree = tr.createTreeOfKeys(simTree)\n",
    "simTree.printStats2()"
   ]
  },
  {
   "cell_type": "code",
   "execution_count": null,
   "metadata": {
    "collapsed": false,
    "deletable": true,
    "editable": true
   },
   "outputs": [],
   "source": [
    "tr.assignBarWidthsAndMarks(simTree, keysTree)\n",
    "tr.assignLegendNames(simTree)\n",
    "fig = figure(figsize=(12.9,8),dpi=100)\n",
    "tr.barPlot(simTree, keysTree, fig)"
   ]
  },
  {
   "cell_type": "markdown",
   "metadata": {
    "deletable": true,
    "editable": true
   },
   "source": [
    "### 1(b)iii. Assignment of Crack Ratio"
   ]
  },
  {
   "cell_type": "code",
   "execution_count": null,
   "metadata": {
    "collapsed": false,
    "deletable": true,
    "editable": true
   },
   "outputs": [],
   "source": [
    "crackRatio = '10.0'"
   ]
  },
  {
   "cell_type": "markdown",
   "metadata": {
    "deletable": true,
    "editable": true
   },
   "source": [
    "### 1(b)iv. Simulations with Equal Crack Ratio"
   ]
  },
  {
   "cell_type": "code",
   "execution_count": null,
   "metadata": {
    "collapsed": false,
    "deletable": true,
    "editable": true
   },
   "outputs": [],
   "source": [
    "crKeys = pf.filterSimIds(dbKeys, {'crackRatio':float(crackRatio)})\n",
    "crTree = tr.createTreeFromDbKeys(crKeys)\n",
    "sf.setSimIdAsFailed([allSimTree, simTree, crTree], sf.getSimIdsFromShelve('failed'))\n",
    "crKeysTree = tr.createTreeOfKeys(crTree)\n",
    "crTree.printStats2()"
   ]
  },
  {
   "cell_type": "code",
   "execution_count": null,
   "metadata": {
    "collapsed": false,
    "deletable": true,
    "editable": true
   },
   "outputs": [],
   "source": [
    "tr.assignBarWidthsAndMarks(crTree, crKeysTree)\n",
    "tr.assignLegendNames(crTree)\n",
    "fig = figure(figsize=(12,8),dpi=100)\n",
    "tr.barPlot(crTree, crKeysTree, fig)"
   ]
  },
  {
   "cell_type": "markdown",
   "metadata": {
    "deletable": true,
    "editable": true
   },
   "source": [
    "## 1(c) Container size convergence"
   ]
  },
  {
   "cell_type": "markdown",
   "metadata": {
    "deletable": true,
    "editable": true
   },
   "source": [
    "### 1(c)i. Contour Plots for SCS - Preview Stage"
   ]
  },
  {
   "cell_type": "code",
   "execution_count": null,
   "metadata": {
    "collapsed": false,
    "deletable": true,
    "editable": true
   },
   "outputs": [],
   "source": [
    "analysisType = 'XFEM'\n",
    "modelType = 'crackPartition'\n",
    "elements = 'LinearTet'\n",
    "s_sims, f_sims = pf.getBranchSimIdsByCriteria(crTree, [analysisType, modelType, elements])\n",
    "errDictCSConv = pf.selectSimsForMinErrors(\n",
    "            s_sims, ['areaDiff', 'avgNormError', 'maxNormError', 'dotProd'], ['K1', 'K2', 'K3'])\n",
    "for errType in ['areaDiff', 'avgNormError', 'dotProd', 'maxNormError']:\n",
    "    fig = figure(figsize=(15,5), dpi=100)\n",
    "    pf.createContourPlot4(errDictCSConv[errType], fig, errType, levels=15)"
   ]
  },
  {
   "cell_type": "markdown",
   "metadata": {
    "deletable": true,
    "editable": true
   },
   "source": [
    "### 1(c)ii. Optimal Container Size"
   ]
  },
  {
   "cell_type": "code",
   "execution_count": null,
   "metadata": {
    "collapsed": false,
    "deletable": true,
    "editable": true
   },
   "outputs": [],
   "source": [
    "optD = 180\n",
    "optH = 120"
   ]
  },
  {
   "cell_type": "markdown",
   "metadata": {
    "deletable": true,
    "editable": true
   },
   "source": [
    "### 1(c)iii. Contour Plots for CSC - Verification Stage"
   ]
  },
  {
   "cell_type": "code",
   "execution_count": null,
   "metadata": {
    "collapsed": false,
    "deletable": true,
    "editable": true
   },
   "outputs": [],
   "source": [
    "criteriaParam = 'rmsd' #'avgNormError', 'areaDiff', 'dotProd', 'maxNormError'\n",
    "criteriaSif = 'K1' #'K2', 'K3'\n",
    "errorTypes = ['areaDiff', 'avgNormError', 'dotProd', 'maxNormError']\n",
    "SIFs = ['K1', 'K3'] #'K2', \n",
    "d = pf.selectSimsForMinErrors(s_sims, [criteriaParam], [criteriaSif])[criteriaParam][criteriaSif]\n",
    "selSim = set([d[k][0] for k in d.keys()])\n",
    "d = pf.selectSimsForMinErrors(selSim, errorTypes, SIFs)\n",
    "for errType in errorTypes:\n",
    "    fig = figure(figsize=(15,5), dpi=100)\n",
    "    pf.createContourPlot4(d[errType], fig, errType, selected=(optD,optH), levels=15)"
   ]
  },
  {
   "cell_type": "markdown",
   "metadata": {
    "deletable": true,
    "editable": true
   },
   "source": [
    "## 1(d) Number and Distribution of Simulations with Optimal Size Container"
   ]
  },
  {
   "cell_type": "code",
   "execution_count": null,
   "metadata": {
    "collapsed": false,
    "deletable": true,
    "editable": true
   },
   "outputs": [],
   "source": [
    "dhcrKeys = pf.filterSimIds(crKeys, {'d':optD, 'h':optH})\n",
    "dhcrTree = tr.createTreeFromDbKeys(dhcrKeys)\n",
    "sf.setSimIdAsFailed([allSimTree, simTree, crTree, dhcrTree], sf.getSimIdsFromShelve('failed'))\n",
    "dhcrKeysTree = tr.createTreeOfKeys(dhcrTree)\n",
    "dhcrTree.printStats2()"
   ]
  },
  {
   "cell_type": "code",
   "execution_count": null,
   "metadata": {
    "collapsed": false,
    "deletable": true,
    "editable": true
   },
   "outputs": [],
   "source": [
    "tr.assignBarWidthsAndMarks(dhcrTree, dhcrKeysTree)\n",
    "tr.assignLegendNames(dhcrTree)\n",
    "fig = figure(figsize=(12,8),dpi=100)\n",
    "tr.barPlot(dhcrTree, dhcrKeysTree, fig)"
   ]
  },
  {
   "cell_type": "markdown",
   "metadata": {
    "deletable": true,
    "editable": true
   },
   "source": [
    "---------------"
   ]
  },
  {
   "cell_type": "markdown",
   "metadata": {
    "deletable": true,
    "editable": true,
    "slideshow": {
     "slide_type": "skip"
    }
   },
   "source": [
    "# 2. Analysis of the Model Types"
   ]
  },
  {
   "cell_type": "markdown",
   "metadata": {
    "deletable": true,
    "editable": true
   },
   "source": [
    "## 2(a) XFEM crackPartition"
   ]
  },
  {
   "cell_type": "markdown",
   "metadata": {
    "deletable": true,
    "editable": true
   },
   "source": [
    "### 2(a)i. Number and Distribution of XFEM CP Simulations"
   ]
  },
  {
   "cell_type": "markdown",
   "metadata": {
    "deletable": true,
    "editable": true
   },
   "source": [
    "#### 2(a)iA. Stats for all XFEM CP Simulations with the Specified Crack Ratio"
   ]
  },
  {
   "cell_type": "code",
   "execution_count": null,
   "metadata": {
    "collapsed": false,
    "deletable": true,
    "editable": true
   },
   "outputs": [],
   "source": [
    "crTree.getTreeBranch(['XFEM', 'crackPartition', 'LinearTet']).printStats2()"
   ]
  },
  {
   "cell_type": "markdown",
   "metadata": {
    "deletable": true,
    "editable": true
   },
   "source": [
    "#### 2(a)iB. Successful Simulations vs Seed Parameters Plots"
   ]
  },
  {
   "cell_type": "code",
   "execution_count": null,
   "metadata": {
    "collapsed": false,
    "deletable": true,
    "editable": true
   },
   "outputs": [],
   "source": [
    "trbr_xcp = crTree.getTreeBranch(['XFEM', 'crackPartition', 'LinearTet'])\n",
    "crackEdges = dba.getParameterRange(trbr_xcp.getAllMembers(), 'crackEdges')\n",
    "for ce in sorted(crackEdges):\n",
    "    sf_xcp = pf.filterSimIds(trbr_xcp.getSuccessfulMembers(), {'crackEdges':ce})\n",
    "    ff_xcp = pf.filterSimIds(trbr_xcp.getFailedMembers(), {'crackEdges':ce})\n",
    "    fig = figure(figsize=(8.1,5),dpi=100)\n",
    "    pf.create3dScatterPlotSummary(sf_xcp, ff_xcp, 'Crack edges: {0}'.format(ce), fig)"
   ]
  },
  {
   "cell_type": "markdown",
   "metadata": {
    "deletable": true,
    "editable": true
   },
   "source": [
    "#### 2(a)iC. Stats for all XFEM CP Simulations with the Specified Crack Ratio and Optimal Container Size"
   ]
  },
  {
   "cell_type": "code",
   "execution_count": null,
   "metadata": {
    "collapsed": false,
    "deletable": true,
    "editable": true
   },
   "outputs": [],
   "source": [
    "dhcrTree.getTreeBranch(['XFEM', 'crackPartition', 'LinearTet']).printStats2()"
   ]
  },
  {
   "cell_type": "markdown",
   "metadata": {
    "deletable": true,
    "editable": true
   },
   "source": [
    "### 2(a)ii. Initialization"
   ]
  },
  {
   "cell_type": "code",
   "execution_count": null,
   "metadata": {
    "collapsed": false,
    "deletable": true,
    "editable": true
   },
   "outputs": [],
   "source": [
    "criteria_xcp = ['rmsd', 'K1']\n",
    "sifs_xcp = ['K1', 'K2', 'K3']"
   ]
  },
  {
   "cell_type": "code",
   "execution_count": null,
   "metadata": {
    "collapsed": false,
    "deletable": true,
    "editable": true
   },
   "outputs": [],
   "source": [
    "cq_xcp = qs.CompQueue()"
   ]
  },
  {
   "cell_type": "code",
   "execution_count": null,
   "metadata": {
    "collapsed": false,
    "deletable": true,
    "editable": true
   },
   "outputs": [],
   "source": [
    "cq_xcp.loadSession(dhcrTree.getTreeBranch(['XFEM', 'crackPartition', 'LinearTet']))\n",
    "cq_xcp.printQueue()"
   ]
  },
  {
   "cell_type": "markdown",
   "metadata": {
    "deletable": true,
    "editable": true
   },
   "source": [
    "### 2(a)iii. Analysis Step"
   ]
  },
  {
   "cell_type": "markdown",
   "metadata": {
    "deletable": true,
    "editable": true
   },
   "source": [
    "#### 2(a)iiiA. Box Plot"
   ]
  },
  {
   "cell_type": "code",
   "execution_count": null,
   "metadata": {
    "collapsed": false,
    "deletable": true,
    "editable": true
   },
   "outputs": [],
   "source": [
    "crackEdge = 0.4\n",
    "fig = figure(figsize=(12,10), dpi=100)\n",
    "xcp = XCPCompAnalysis.XCPCompAnalysis(dhcrTree.getTreeBranch(['XFEM', 'crackPartition', 'LinearTet']),\n",
    "                          crackEdge, criteria_xcp, sifs_xcp)\n",
    "xcp.runMethods()\n",
    "xcp.createFigure(fig)"
   ]
  },
  {
   "cell_type": "markdown",
   "metadata": {
    "deletable": true,
    "editable": true
   },
   "source": [
    "#### 2(a)iiiB. Assignment of Failed simIds"
   ]
  },
  {
   "cell_type": "code",
   "execution_count": null,
   "metadata": {
    "collapsed": false,
    "deletable": true,
    "editable": true
   },
   "outputs": [],
   "source": [
    "selectionIdNumber = None\n",
    "xcp.assignSimIdAsFailed([allSimTree, simTree, crTree, dhcrTree], cq_xcp, selectionIdNumber)"
   ]
  },
  {
   "cell_type": "markdown",
   "metadata": {
    "deletable": true,
    "editable": true
   },
   "source": [
    "#### 2(a)iiiC. Add simIds to CQ"
   ]
  },
  {
   "cell_type": "code",
   "execution_count": null,
   "metadata": {
    "collapsed": false,
    "deletable": true,
    "editable": true
   },
   "outputs": [],
   "source": [
    "selectionIdNumber = 3\n",
    "xcp.addToQueue(cq_xcp, selectionIdNumber)\n",
    "cq_xcp.printQueue()"
   ]
  },
  {
   "cell_type": "markdown",
   "metadata": {
    "deletable": true,
    "editable": true
   },
   "source": [
    "#### 2(a)iiiD. SIFs Plots of simIds in the CQ"
   ]
  },
  {
   "cell_type": "code",
   "execution_count": null,
   "metadata": {
    "collapsed": false,
    "deletable": true,
    "editable": true
   },
   "outputs": [],
   "source": [
    "fig = figure(figsize(8,10), dpi=100)\n",
    "cq_xcp.plotComp(fig)\n",
    "cq_xcp.printQueue()"
   ]
  },
  {
   "cell_type": "markdown",
   "metadata": {
    "deletable": true,
    "editable": true
   },
   "source": [
    "#### 2(a)iiiE. Remove simId from CQ"
   ]
  },
  {
   "cell_type": "code",
   "execution_count": null,
   "metadata": {
    "collapsed": false,
    "deletable": true,
    "editable": true
   },
   "outputs": [],
   "source": [
    "num = None\n",
    "cq_xcp.removeFromQueue(num)\n",
    "cq_xcp.printQueue()"
   ]
  },
  {
   "cell_type": "markdown",
   "metadata": {
    "deletable": true,
    "editable": true
   },
   "source": [
    "#### 2(a)iiiF. Errors and SIFs Plots for a Selected simId"
   ]
  },
  {
   "cell_type": "code",
   "execution_count": null,
   "metadata": {
    "collapsed": false,
    "deletable": true,
    "editable": true
   },
   "outputs": [],
   "source": [
    "queue_num_xcp = 1\n",
    "cq_xcp.printQueue()\n",
    "fig = figure(figsize=(8,10), dpi=100)\n",
    "pf.plotSimId(cq_xcp.getByNumber(queue_num_xcp), fig)"
   ]
  },
  {
   "cell_type": "markdown",
   "metadata": {
    "deletable": true,
    "editable": true
   },
   "source": [
    "#### 2(a)iiiG. Save a Selected simId to the Session successful File"
   ]
  },
  {
   "cell_type": "code",
   "execution_count": null,
   "metadata": {
    "collapsed": false,
    "deletable": true,
    "editable": true
   },
   "outputs": [],
   "source": [
    "sf.writeToShelve(cq_xcp.getByNumber(queue_num_xcp), 'successful')"
   ]
  },
  {
   "cell_type": "markdown",
   "metadata": {
    "deletable": true,
    "editable": true
   },
   "source": [
    "------------"
   ]
  },
  {
   "cell_type": "markdown",
   "metadata": {
    "deletable": true,
    "editable": true
   },
   "source": [
    "## 2(b) XFEM simple"
   ]
  },
  {
   "cell_type": "markdown",
   "metadata": {
    "deletable": true,
    "editable": true
   },
   "source": [
    "### 2(b)i. Number and Distribution of XFEM simple Simulations"
   ]
  },
  {
   "cell_type": "markdown",
   "metadata": {
    "deletable": true,
    "editable": true
   },
   "source": [
    "#### 2(b)iA. Stats for All XFEM simple Simulations with the Specified Crack Ratio"
   ]
  },
  {
   "cell_type": "code",
   "execution_count": null,
   "metadata": {
    "collapsed": false,
    "deletable": true,
    "editable": true
   },
   "outputs": [],
   "source": [
    "crTree.getTreeBranch(['XFEM', 'simple']).printStats2()"
   ]
  },
  {
   "cell_type": "markdown",
   "metadata": {
    "deletable": true,
    "editable": true
   },
   "source": [
    "#### 2(b)iB. Successful Simulations vs Seed Parameters Plots"
   ]
  },
  {
   "cell_type": "code",
   "execution_count": null,
   "metadata": {
    "collapsed": false,
    "deletable": true,
    "editable": true
   },
   "outputs": [],
   "source": [
    "for n in sorted(crTree.getTreeBranch(['XFEM', 'simple']).getChildren(), key=lambda x: x.getName()):\n",
    "    fig = figure(figsize=(8.1,5),dpi=100)\n",
    "    title = 'Elements - {0}'.format(n.getName())\n",
    "    pf.create3dScatterPlotSummary(n.getSuccessfulMembers(), n.getFailedMembers(), title, fig)"
   ]
  },
  {
   "cell_type": "markdown",
   "metadata": {
    "deletable": true,
    "editable": true
   },
   "source": [
    "#### 2(b)iC. Stats for All XFEM simple Simulations with the Specified Crack Ratio and Optimal Container Size"
   ]
  },
  {
   "cell_type": "code",
   "execution_count": null,
   "metadata": {
    "collapsed": false,
    "deletable": true,
    "editable": true
   },
   "outputs": [],
   "source": [
    "dhcrTree.getTreeBranch(['XFEM', 'simple']).printStats2()"
   ]
  },
  {
   "cell_type": "markdown",
   "metadata": {
    "deletable": true,
    "editable": true
   },
   "source": [
    "### 2(b)ii. Initialization"
   ]
  },
  {
   "cell_type": "code",
   "execution_count": null,
   "metadata": {
    "collapsed": false,
    "deletable": true,
    "editable": true
   },
   "outputs": [],
   "source": [
    "criteria_xs = ['rmsd', 'K1']\n",
    "sifs_xs = ['K1', 'K2', 'K3']"
   ]
  },
  {
   "cell_type": "code",
   "execution_count": null,
   "metadata": {
    "collapsed": false,
    "deletable": true,
    "editable": true
   },
   "outputs": [],
   "source": [
    "cq_xs = qs.CompQueue()"
   ]
  },
  {
   "cell_type": "code",
   "execution_count": null,
   "metadata": {
    "collapsed": false,
    "deletable": true,
    "editable": true
   },
   "outputs": [],
   "source": [
    "elements_xs = ['LinearHexRI', 'LinearHexFI', 'LinearTet'][2]\n",
    "cq_xs.loadSession(dhcrTree.getTreeBranch(['XFEM', 'simple', elements_xs]))\n",
    "cq_xs.printQueue()"
   ]
  },
  {
   "cell_type": "markdown",
   "metadata": {
    "deletable": true,
    "editable": true
   },
   "source": [
    "### 2(b)iii. Analysis step"
   ]
  },
  {
   "cell_type": "markdown",
   "metadata": {
    "deletable": true,
    "editable": true
   },
   "source": [
    "#### 2(b)iiiA. Box Plots"
   ]
  },
  {
   "cell_type": "code",
   "execution_count": null,
   "metadata": {
    "collapsed": false,
    "deletable": true,
    "editable": true
   },
   "outputs": [],
   "source": [
    "analysis1 = ['LinearHexRI', 'LinearHexFI', 'LinearTet'][0]\n",
    "analysis2 = ['LinearHexRI', 'LinearHexFI', 'LinearTet'][2]\n",
    "xs = XSCompAnalysis.XSCompAnalysis(pNode = dhcrTree,\n",
    "    analysisBranches = [['XFEM', 'simple', analysis1], ['XFEM', 'simple', analysis2]], \n",
    "    criteria = criteria_xs, sifs = sifs_xs)\n",
    "fig = figure(figsize=(12,10), dpi=100) #10\n",
    "xs.runMethods()\n",
    "xs.createFigure(fig)"
   ]
  },
  {
   "cell_type": "markdown",
   "metadata": {
    "deletable": true,
    "editable": true
   },
   "source": [
    "#### 2(b)iiiB. Assignment of Failed simIds"
   ]
  },
  {
   "cell_type": "code",
   "execution_count": null,
   "metadata": {
    "collapsed": false,
    "deletable": true,
    "editable": true
   },
   "outputs": [],
   "source": [
    "selectionIdNumber = 5\n",
    "xs.assignSimIdAsFailed([allSimTree, simTree, crTree, dhcrTree], cq_xs, selectionIdNumber)"
   ]
  },
  {
   "cell_type": "markdown",
   "metadata": {
    "deletable": true,
    "editable": true
   },
   "source": [
    "#### 2(b)iiiC. Add simIds to CQ"
   ]
  },
  {
   "cell_type": "code",
   "execution_count": null,
   "metadata": {
    "collapsed": false,
    "deletable": true,
    "editable": true
   },
   "outputs": [],
   "source": [
    "selectionIdNumber = 4\n",
    "xs.addToQueue(cq_xs, selectionIdNumber)\n",
    "cq_xs.printQueue()"
   ]
  },
  {
   "cell_type": "markdown",
   "metadata": {
    "deletable": true,
    "editable": true
   },
   "source": [
    "#### 2(b)iiiD. SIFs Plots of simIds in CQ"
   ]
  },
  {
   "cell_type": "code",
   "execution_count": null,
   "metadata": {
    "collapsed": false,
    "deletable": true,
    "editable": true
   },
   "outputs": [],
   "source": [
    "fig = figure(figsize(8,10), dpi=100)\n",
    "cq_xs.plotComp(fig)\n",
    "cq_xs.printQueue()"
   ]
  },
  {
   "cell_type": "markdown",
   "metadata": {
    "deletable": true,
    "editable": true
   },
   "source": [
    "#### 2(b)iiiE. Remove a simId from CQ"
   ]
  },
  {
   "cell_type": "code",
   "execution_count": null,
   "metadata": {
    "collapsed": false,
    "deletable": true,
    "editable": true
   },
   "outputs": [],
   "source": [
    "num = None\n",
    "cq_xs.removeFromQueue(num)\n",
    "cq_xs.printQueue()"
   ]
  },
  {
   "cell_type": "markdown",
   "metadata": {
    "deletable": true,
    "editable": true
   },
   "source": [
    "#### 2(b)iiiF. Errors and SIFs Plots for a Selected simId"
   ]
  },
  {
   "cell_type": "code",
   "execution_count": null,
   "metadata": {
    "collapsed": false,
    "deletable": true,
    "editable": true
   },
   "outputs": [],
   "source": [
    "queue_num_xs = 1\n",
    "cq_xs.printQueue()\n",
    "fig = figure(figsize=(8,10), dpi=100)\n",
    "pf.plotSimId(cq_xs.getByNumber(queue_num_xs), fig)"
   ]
  },
  {
   "cell_type": "markdown",
   "metadata": {
    "deletable": true,
    "editable": true
   },
   "source": [
    "#### 2(b)iiiG. Save a Selected simId to the Session successful File"
   ]
  },
  {
   "cell_type": "code",
   "execution_count": null,
   "metadata": {
    "collapsed": false,
    "deletable": true,
    "editable": true
   },
   "outputs": [],
   "source": [
    "sf.writeToShelve(cq_xs.getByNumber(queue_num_xs), 'successful')"
   ]
  },
  {
   "cell_type": "markdown",
   "metadata": {
    "deletable": true,
    "editable": true
   },
   "source": [
    "---------------"
   ]
  },
  {
   "cell_type": "markdown",
   "metadata": {
    "deletable": true,
    "editable": true
   },
   "source": [
    "## 2(c) FEM"
   ]
  },
  {
   "cell_type": "markdown",
   "metadata": {
    "deletable": true,
    "editable": true
   },
   "source": [
    "### 2(c)i. Container Size Comparison for XFEM and FEM Analyses"
   ]
  },
  {
   "cell_type": "code",
   "execution_count": null,
   "metadata": {
    "collapsed": false,
    "deletable": true,
    "editable": true
   },
   "outputs": [],
   "source": [
    "fig = figure(figsize=(8,10), dpi=100)\n",
    "pf.plotContainerSizeComparison(optD, optH, crackRatio, simTree, fig)"
   ]
  },
  {
   "cell_type": "markdown",
   "metadata": {
    "deletable": true,
    "editable": true
   },
   "source": [
    "### 2(c)ii. Number and Distribution of FEM Simulations"
   ]
  },
  {
   "cell_type": "markdown",
   "metadata": {
    "deletable": true,
    "editable": true
   },
   "source": [
    "#### 2(c)iiA. Stats for All FEM Simulations with the Specified Crack Ratio"
   ]
  },
  {
   "cell_type": "code",
   "execution_count": null,
   "metadata": {
    "collapsed": false,
    "deletable": true,
    "editable": true
   },
   "outputs": [],
   "source": [
    "crTree.getTreeBranch(['FEM']).printStats2()"
   ]
  },
  {
   "cell_type": "markdown",
   "metadata": {
    "deletable": true,
    "editable": true
   },
   "source": [
    "#### 2(c)iiB. Stats for All FEM Simulations with the Specified Crack Ratio and Optimal Container Size"
   ]
  },
  {
   "cell_type": "code",
   "execution_count": null,
   "metadata": {
    "collapsed": false,
    "deletable": true,
    "editable": true
   },
   "outputs": [],
   "source": [
    "dhcrTree.getTreeBranch(['FEM']).printStats2()"
   ]
  },
  {
   "cell_type": "markdown",
   "metadata": {
    "deletable": true,
    "editable": true
   },
   "source": [
    "### 2(c)iii. Initialization"
   ]
  },
  {
   "cell_type": "code",
   "execution_count": null,
   "metadata": {
    "collapsed": false,
    "deletable": true,
    "editable": true
   },
   "outputs": [],
   "source": [
    "criteria_fc = ['rmsd', 'K1']\n",
    "sifs_fc = ['K1', 'K2', 'K3']"
   ]
  },
  {
   "cell_type": "code",
   "execution_count": null,
   "metadata": {
    "collapsed": false,
    "deletable": true,
    "editable": true
   },
   "outputs": [],
   "source": [
    "cq_fc = qs.CompQueue()"
   ]
  },
  {
   "cell_type": "code",
   "execution_count": null,
   "metadata": {
    "collapsed": false,
    "deletable": true,
    "editable": true
   },
   "outputs": [],
   "source": [
    "cq_fc.loadSession(dhcrTree.getTreeBranch(['FEM'])) # 'elliptic', 'LinearHexRI'\n",
    "cq_fc.printQueue()"
   ]
  },
  {
   "cell_type": "markdown",
   "metadata": {
    "deletable": true,
    "editable": true
   },
   "source": [
    "### 2(c)iv. Analysis Step"
   ]
  },
  {
   "cell_type": "markdown",
   "metadata": {
    "deletable": true,
    "editable": true
   },
   "source": [
    "#### 2(c)ivA. Box Plot"
   ]
  },
  {
   "cell_type": "code",
   "execution_count": null,
   "metadata": {
    "collapsed": false,
    "deletable": true,
    "editable": true
   },
   "outputs": [],
   "source": [
    "analysis1 = ['FEM', 'elliptic', 'QuadraticRI']\n",
    "analysis2 = ['FEM', 'simpleScale', 'LinearRI']\n",
    "fc = FEMCompAnalysis.FEMCompAnalysis(dhcrTree, [analysis1, analysis2], criteria_fc, sifs_fc)\n",
    "fig = figure(figsize=(12,10), dpi=100) #10\n",
    "fc.runMethods()\n",
    "fc.createFigure(fig)"
   ]
  },
  {
   "cell_type": "markdown",
   "metadata": {
    "deletable": true,
    "editable": true
   },
   "source": [
    "#### 2(c)ivB. Assignment of Failed simIds"
   ]
  },
  {
   "cell_type": "code",
   "execution_count": null,
   "metadata": {
    "collapsed": false,
    "deletable": true,
    "editable": true
   },
   "outputs": [],
   "source": [
    "selectionIdNumber = None\n",
    "fc.assignSimIdAsFailed([allSimTree, simTree, crTree, dhcrTree], cq_fc, selectionIdNumber)"
   ]
  },
  {
   "cell_type": "markdown",
   "metadata": {
    "deletable": true,
    "editable": true
   },
   "source": [
    "#### 2(c)ivC. Add simIds to CQ"
   ]
  },
  {
   "cell_type": "code",
   "execution_count": null,
   "metadata": {
    "collapsed": false,
    "deletable": true,
    "editable": true
   },
   "outputs": [],
   "source": [
    "selectionIdNumber = 1\n",
    "fc.addToQueue(cq_fc, selectionIdNumber)\n",
    "cq_fc.printQueue()"
   ]
  },
  {
   "cell_type": "markdown",
   "metadata": {
    "deletable": true,
    "editable": true
   },
   "source": [
    "#### 2(c)ivD. SIFs Plots of simIds in CQ"
   ]
  },
  {
   "cell_type": "code",
   "execution_count": null,
   "metadata": {
    "collapsed": false,
    "deletable": true,
    "editable": true
   },
   "outputs": [],
   "source": [
    "fig = figure(figsize(8,10), dpi=100)\n",
    "cq_fc.plotComp(fig)"
   ]
  },
  {
   "cell_type": "markdown",
   "metadata": {
    "deletable": true,
    "editable": true
   },
   "source": [
    "#### 2(c)ivE. Remove a simId from the CQ"
   ]
  },
  {
   "cell_type": "code",
   "execution_count": null,
   "metadata": {
    "collapsed": false,
    "deletable": true,
    "editable": true
   },
   "outputs": [],
   "source": [
    "num = None\n",
    "cq_fc.removeFromQueue(num)\n",
    "cq_fc.printQueue()"
   ]
  },
  {
   "cell_type": "markdown",
   "metadata": {
    "deletable": true,
    "editable": true
   },
   "source": [
    "#### 2(c)ivF. Errors and SIFs Plots for a Selected simId"
   ]
  },
  {
   "cell_type": "code",
   "execution_count": null,
   "metadata": {
    "collapsed": false,
    "deletable": true,
    "editable": true
   },
   "outputs": [],
   "source": [
    "queue_num_fc = 1\n",
    "fig = figure(figsize=(8,10), dpi=100)\n",
    "pf.plotSimId(cq_fc.getByNumber(queue_num_fc), fig)"
   ]
  },
  {
   "cell_type": "markdown",
   "metadata": {
    "deletable": true,
    "editable": true
   },
   "source": [
    "#### 2(c)ivG. Save a Selected simId to the Session successful File"
   ]
  },
  {
   "cell_type": "code",
   "execution_count": null,
   "metadata": {
    "collapsed": false,
    "deletable": true,
    "editable": true
   },
   "outputs": [],
   "source": [
    "sf.writeToShelve(cq_fc.getByNumber(queue_num_fc), 'successful')"
   ]
  },
  {
   "cell_type": "markdown",
   "metadata": {
    "deletable": true,
    "editable": true
   },
   "source": [
    "---------------"
   ]
  },
  {
   "cell_type": "markdown",
   "metadata": {
    "deletable": true,
    "editable": true
   },
   "source": [
    "# 3. Comparison of the Model Types"
   ]
  },
  {
   "cell_type": "markdown",
   "metadata": {
    "deletable": true,
    "editable": true
   },
   "source": [
    "## 3(a) Initialization"
   ]
  },
  {
   "cell_type": "code",
   "execution_count": null,
   "metadata": {
    "collapsed": false,
    "deletable": true,
    "editable": true
   },
   "outputs": [],
   "source": [
    "criteria_sc = ['rmsd', 'K1']\n",
    "sifs_sc = ['K1', 'K2', 'K3']"
   ]
  },
  {
   "cell_type": "code",
   "execution_count": null,
   "metadata": {
    "collapsed": true,
    "deletable": true,
    "editable": true
   },
   "outputs": [],
   "source": [
    "lq = qs.LeavesQueue()\n",
    "for i in tr.getTreeLeaves(dhcrTree):\n",
    "    lq.addLeaf(i)\n",
    "lq.printQueue()"
   ]
  },
  {
   "cell_type": "markdown",
   "metadata": {
    "deletable": true,
    "editable": true
   },
   "source": [
    "## 3(b) Analysis Step"
   ]
  },
  {
   "cell_type": "markdown",
   "metadata": {
    "deletable": true,
    "editable": true
   },
   "source": [
    "#### 3(b)i. Box Plot"
   ]
  },
  {
   "cell_type": "code",
   "execution_count": null,
   "metadata": {
    "collapsed": false,
    "deletable": true,
    "editable": true
   },
   "outputs": [],
   "source": [
    "sc = SIMCompAnalysis.BoxCompPlot(lq, criteria_sc, sifs_sc)\n",
    "fig = figure(figsize=(12,8),dpi=100)\n",
    "sc.createCompBoxPlot([3,9,10,11,12], 'difference', fig)"
   ]
  },
  {
   "cell_type": "markdown",
   "metadata": {
    "deletable": true,
    "editable": true
   },
   "source": [
    "#### 3(b)ii. Histogram"
   ]
  },
  {
   "cell_type": "code",
   "execution_count": null,
   "metadata": {
    "collapsed": false,
    "deletable": true,
    "editable": true
   },
   "outputs": [],
   "source": [
    "sc = SIMCompAnalysis.HistCompPlot(lq, criteria_sc, sifs_sc)\n",
    "fig = figure(figsize=(10,10),dpi=100)\n",
    "items = {1:20, 2:20, 9:200}\n",
    "sc.createCompHistPlot(items, 'difference', [-50, 50], fig)"
   ]
  },
  {
   "cell_type": "markdown",
   "metadata": {
    "deletable": true,
    "editable": true
   },
   "source": [
    "#### 3(b)iii. Correlation Plot"
   ]
  },
  {
   "cell_type": "code",
   "execution_count": null,
   "metadata": {
    "collapsed": false,
    "deletable": true,
    "editable": true
   },
   "outputs": [],
   "source": [
    "sc = SIMCompAnalysis.CorrCompPlot(lq, criteria_sc, sifs_sc)\n",
    "fig = figure(figsize=(10,10),dpi=100)\n",
    "sc.createCompCorrPlot([1,2,3,9], 'difference', [-100, 100], fig)"
   ]
  },
  {
   "cell_type": "code",
   "execution_count": null,
   "metadata": {
    "collapsed": false,
    "deletable": true,
    "editable": true
   },
   "outputs": [],
   "source": [
    "sc = SIMCompAnalysis.CorrCompPlot(lq, criteria_sc, sifs_sc)\n",
    "fig = figure(figsize=(10,10),dpi=100)\n",
    "sc.createCompCorrPlot([1, 9], 'results', None, fig)"
   ]
  },
  {
   "cell_type": "markdown",
   "metadata": {
    "deletable": true,
    "editable": true
   },
   "source": [
    "#### 3(b)iv. Range Plot"
   ]
  },
  {
   "cell_type": "code",
   "execution_count": null,
   "metadata": {
    "collapsed": false,
    "deletable": true,
    "editable": true
   },
   "outputs": [],
   "source": [
    "sc = SIMCompAnalysis.RangeCompPlot(lq, criteria_sc, sifs_sc)\n",
    "fig = figure(figsize=(12,14),dpi=100)\n",
    "opts = {'data':['results', 'errors'],'errors':'difference', 'optSim':True, 'range':True,\n",
    "        'analytical':True, 'dataPoints':True, 'rangeType':1}\n",
    "sc.createCompRangePlot({3:11,12:14}, opts, fig)  # 1:7, 2:7, 3:11, 4:11, 5:7, 6:7, 7:11, 8:11, 9:79, 10:29, 11:29, 12:14"
   ]
  },
  {
   "cell_type": "markdown",
   "metadata": {
    "deletable": true,
    "editable": true
   },
   "source": [
    "#### 3(b)v. Bounds Plot"
   ]
  },
  {
   "cell_type": "code",
   "execution_count": null,
   "metadata": {
    "collapsed": false,
    "deletable": true,
    "editable": true
   },
   "outputs": [],
   "source": [
    "sc = SIMCompAnalysis.BoundsCompPlot(lq, criteria_sc, sifs_sc)\n",
    "fig = figure(figsize=(12,14),dpi=100)\n",
    "targets = {'lower':5, 'upper':95}\n",
    "sc.createBoundsPlot([9, 10], targets, fig, tol=0.1, iterLim=100)"
   ]
  },
  {
   "cell_type": "markdown",
   "metadata": {
    "deletable": true,
    "editable": true
   },
   "source": [
    "-----------------"
   ]
  },
  {
   "cell_type": "markdown",
   "metadata": {
    "deletable": true,
    "editable": true
   },
   "source": [
    "# One more thing..."
   ]
  },
  {
   "cell_type": "code",
   "execution_count": null,
   "metadata": {
    "collapsed": false,
    "deletable": true,
    "editable": true
   },
   "outputs": [],
   "source": [
    "allSimTree.getTreeBranch([1.0]).printStats2()"
   ]
  },
  {
   "cell_type": "code",
   "execution_count": null,
   "metadata": {
    "collapsed": false,
    "deletable": true,
    "editable": true
   },
   "outputs": [],
   "source": [
    "branch = [1.0, 'XFEM', 'crackPartition', 'LinearTet']\n",
    "filterDict = {'sigma':100, 'omega':0, 'gamma':0, 'v':0.3, 'E':2e5,\n",
    "              'crackEdges':0.05, 'allEdges':2}\n",
    "cq_psc = qs.CompQueue()\n",
    "node = allSimTree.getTreeBranch(branch)\n",
    "cq_psc.addSimId(pf.filterSimIds(node.getSuccessfulMembers(), filterDict))\n",
    "#cq_psc.loadSession(allSimTree.getTreeBranch(branch))\n",
    "print len(cq_psc.getQueue())"
   ]
  },
  {
   "cell_type": "code",
   "execution_count": null,
   "metadata": {
    "collapsed": false,
    "deletable": true,
    "editable": true
   },
   "outputs": [],
   "source": [
    "psc = PSCCompAnalysis.PSCCompAnalysis(cq_psc.getQueue())\n",
    "fig = figure(figsize=(12,10), dpi=100)\n",
    "psc.createPSCStatPlots(100, 120, 50, 50, fig)"
   ]
  },
  {
   "cell_type": "code",
   "execution_count": null,
   "metadata": {
    "collapsed": false,
    "deletable": true,
    "editable": true
   },
   "outputs": [],
   "source": [
    "fig = figure(figsize=(12,10), dpi=100)\n",
    "psc.createPSCProbPlots(2, fig)"
   ]
  },
  {
   "cell_type": "code",
   "execution_count": null,
   "metadata": {
    "collapsed": false,
    "deletable": true,
    "editable": true
   },
   "outputs": [],
   "source": [
    "fig = figure(figsize=(12,10), dpi=100)\n",
    "cq_psc.plotComp(fig)"
   ]
  },
  {
   "cell_type": "code",
   "execution_count": null,
   "metadata": {
    "collapsed": false,
    "deletable": true,
    "editable": true
   },
   "outputs": [],
   "source": [
    "fig = figure(figsize=(10,10), dpi=100)\n",
    "pf.plotSimId(cq_psc.getByNumber(19), fig)"
   ]
  },
  {
   "cell_type": "code",
   "execution_count": null,
   "metadata": {
    "collapsed": false,
    "deletable": true,
    "editable": true
   },
   "outputs": [],
   "source": [
    "PSCCompAnalysis.assignSimIdAsFailed([allSimTree, simTree, crTree, dhcrTree], cq_psc, 19) #, "
   ]
  },
  {
   "cell_type": "code",
   "execution_count": null,
   "metadata": {
    "collapsed": false,
    "deletable": true,
    "editable": true
   },
   "outputs": [],
   "source": [
    "#cq_psc.removeFromQueue(16)\n",
    "cq_psc.printQueue()"
   ]
  }
 ],
 "metadata": {
  "kernelspec": {
   "display_name": "Python 2",
   "language": "python",
   "name": "python2"
  },
  "language_info": {
   "codemirror_mode": {
    "name": "ipython",
    "version": 2
   },
   "file_extension": ".py",
   "mimetype": "text/x-python",
   "name": "python",
   "nbconvert_exporter": "python",
   "pygments_lexer": "ipython2",
   "version": "2.7.13"
  }
 },
 "nbformat": 4,
 "nbformat_minor": 0
}
